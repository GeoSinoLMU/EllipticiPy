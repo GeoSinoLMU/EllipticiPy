{
 "cells": [
  {
   "cell_type": "code",
   "execution_count": 4,
   "id": "cb24dbac",
   "metadata": {},
   "outputs": [],
   "source": [
    "# This example covers how to obtain ellipticity corrections for a list of phases from a single source\n",
    "# to a single receiver using a non-standard velocity model\n",
    "# In this example we use the InSight_KKS_GP Mars model"
   ]
  },
  {
   "cell_type": "code",
   "execution_count": 25,
   "id": "eab38160",
   "metadata": {},
   "outputs": [],
   "source": [
    "# Import modules\n",
    "# TauPyModel is needed to obtain TauP Arrival objects\n",
    "from obspy.taup import TauPyModel\n",
    "\n",
    "# Import the ellipticity corrections package directly\n",
    "import sys\n",
    "sys.path.append('../src/')\n",
    "import ellipticity\n"
   ]
  },
  {
   "cell_type": "code",
   "execution_count": 26,
   "id": "63a7bbf7",
   "metadata": {},
   "outputs": [],
   "source": [
    "# Initialise a model\n",
    "# The model must already be made using ObsPy TauP\n",
    "# For information on how to do this we refer the user to the ObsPy TauP documentation\n",
    "# https://docs.obspy.org/packages/obspy.taup.html\n",
    "model_file = './mars1.npz'\n",
    "model = TauPyModel(model = model_file)"
   ]
  },
  {
   "cell_type": "code",
   "execution_count": 32,
   "id": "26830eed",
   "metadata": {},
   "outputs": [],
   "source": [
    "# Define parameters for the ray path\n",
    "phases = ['P', 'PcP', 'S', 'ScS']   # TauP phase names as strings\n",
    "distance = 30.                      # Epicentral distance in degrees\n",
    "azimuth = 30.                       # Azimuth source - receiver in degrees from N\n",
    "ev_latitude = 15.                   # Event latitude in degrees\n",
    "ev_depth = 30.                      # Event depth in km"
   ]
  },
  {
   "cell_type": "code",
   "execution_count": 33,
   "id": "815c2b8b",
   "metadata": {},
   "outputs": [
    {
     "name": "stdout",
     "output_type": "stream",
     "text": [
      "4 arrivals\n",
      "\tP phase arrival at 233.656 seconds\n",
      "\tPcP phase arrival at 399.537 seconds\n",
      "\tS phase arrival at 414.185 seconds\n",
      "\tScS phase arrival at 736.521 seconds\n"
     ]
    }
   ],
   "source": [
    "# Get the Arrivals object\n",
    "# TauP can take lists of phase names and returns in the order that they arrive at the receiver\n",
    "arrivals = model.get_ray_paths(source_depth_in_km = ev_depth, distance_in_degree = distance, phase_list = phases)\n",
    "print(arrivals)"
   ]
  },
  {
   "cell_type": "code",
   "execution_count": 34,
   "id": "8ef651e9",
   "metadata": {},
   "outputs": [
    {
     "name": "stdout",
     "output_type": "stream",
     "text": [
      "[0.092782609424722579, 0.17180137404087559, 0.1714369773358137, 0.31815971299466483]\n"
     ]
    }
   ],
   "source": [
    "# Get the ellipticity corrections in seconds\n",
    "correction = ellipticity.ellipticity_correction(arrivals, azimuth, ev_latitude)\n",
    "print(correction)"
   ]
  },
  {
   "cell_type": "code",
   "execution_count": null,
   "id": "57674ae6",
   "metadata": {},
   "outputs": [],
   "source": []
  }
 ],
 "metadata": {
  "kernelspec": {
   "display_name": "Python 3 (ipykernel)",
   "language": "python",
   "name": "python3"
  },
  "language_info": {
   "codemirror_mode": {
    "name": "ipython",
    "version": 3
   },
   "file_extension": ".py",
   "mimetype": "text/x-python",
   "name": "python",
   "nbconvert_exporter": "python",
   "pygments_lexer": "ipython3",
   "version": "3.9.7"
  }
 },
 "nbformat": 4,
 "nbformat_minor": 5
}

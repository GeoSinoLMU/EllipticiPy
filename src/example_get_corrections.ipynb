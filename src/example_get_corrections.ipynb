{
 "cells": [
  {
   "cell_type": "markdown",
   "id": "9306976b",
   "metadata": {},
   "source": [
    "This example covers how to obtain ellipticity corrections for a list of phases from a single source\n",
    "to a single receiver.\n",
    "\n",
    "In this example we obtain corrections for P and PcP in the velocity model PREM."
   ]
  },
  {
   "cell_type": "code",
   "execution_count": 1,
   "id": "fd81c746",
   "metadata": {},
   "outputs": [],
   "source": [
    "# Import modules\n",
    "# TauPyModel is needed to obtain TauP Arrival objects\n",
    "from obspy.taup import TauPyModel\n",
    "\n",
    "# Import the ellipticity corrections package directly\n",
    "import ellipticity"
   ]
  },
  {
   "cell_type": "code",
   "execution_count": 2,
   "id": "72a66a18",
   "metadata": {},
   "outputs": [],
   "source": [
    "# Initialise a TauPyModel instance\n",
    "model = TauPyModel(model = 'prem')"
   ]
  },
  {
   "cell_type": "code",
   "execution_count": 3,
   "id": "547f4561",
   "metadata": {},
   "outputs": [],
   "source": [
    "# Define parameters for the ray path\n",
    "phases = ['P', 'PcP']   # TauP phase names as strings\n",
    "distance = 50.          # Epicentral distance in degrees\n",
    "azimuth = 30.           # Azimuth source - receiver in degrees from N\n",
    "ev_latitude = 15.       # Event latitude in degrees\n",
    "ev_depth = 100.         # Event depth in km"
   ]
  },
  {
   "cell_type": "code",
   "execution_count": 4,
   "id": "e9f65077",
   "metadata": {},
   "outputs": [
    {
     "name": "stdout",
     "output_type": "stream",
     "text": [
      "2 arrivals\n",
      "\tP phase arrival at 523.586 seconds\n",
      "\tPcP phase arrival at 601.647 seconds\n"
     ]
    }
   ],
   "source": [
    "# Get the Arrivals object\n",
    "# TauP can take lists of phase names and returns in the order that they arrive at the receiver\n",
    "arrivals = model.get_ray_paths(source_depth_in_km = ev_depth, distance_in_degree = distance, phase_list = phases)\n",
    "print(arrivals)"
   ]
  },
  {
   "cell_type": "code",
   "execution_count": 5,
   "id": "9ccb2cc4",
   "metadata": {},
   "outputs": [
    {
     "name": "stdout",
     "output_type": "stream",
     "text": [
      "[-0.090683845416063558, -0.10077522120629623]\n"
     ]
    }
   ],
   "source": [
    "# Get the ellipticity corrections in seconds\n",
    "correction = ellipticity.ellipticity_correction(arrivals, azimuth, ev_latitude)\n",
    "print(correction)"
   ]
  },
  {
   "cell_type": "code",
   "execution_count": 6,
   "id": "a65470a8",
   "metadata": {},
   "outputs": [
    {
     "name": "stdout",
     "output_type": "stream",
     "text": [
      "P arrival time:  523.495710004 s\n",
      "PcP arrival time:  601.546219532 s\n"
     ]
    }
   ],
   "source": [
    "# The total travel time is the TauP Arrival time plus the correction\n",
    "arrival_time_P = arrivals[0].time + correction[0]\n",
    "arrival_time_PcP = arrivals[1].time + correction[1]\n",
    "print('P arrival time: ', arrival_time_P, 's')\n",
    "print('PcP arrival time: ', arrival_time_PcP, 's')"
   ]
  },
  {
   "cell_type": "code",
   "execution_count": null,
   "id": "c468ea83",
   "metadata": {},
   "outputs": [],
   "source": []
  },
  {
   "cell_type": "code",
   "execution_count": null,
   "id": "9b395caa",
   "metadata": {},
   "outputs": [],
   "source": []
  }
 ],
 "metadata": {
  "kernelspec": {
   "display_name": "Python 3 (ipykernel)",
   "language": "python",
   "name": "python3"
  },
  "language_info": {
   "codemirror_mode": {
    "name": "ipython",
    "version": 3
   },
   "file_extension": ".py",
   "mimetype": "text/x-python",
   "name": "python",
   "nbconvert_exporter": "python",
   "pygments_lexer": "ipython3",
   "version": "3.9.7"
  }
 },
 "nbformat": 4,
 "nbformat_minor": 5
}

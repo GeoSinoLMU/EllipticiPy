{
 "cells": [
  {
   "cell_type": "markdown",
   "id": "a9fc1510",
   "metadata": {},
   "source": [
    "# Ellipticity of figure\n",
    "Ellipticity corrections for seismic phases require the determination of the ellipticity of figure ($\\epsilon$) for the planet. In the package this is performed using a simple first-order approach, assuming hydrostatic equilibrium and solving Clairaut’s equation with the Darwin-Radau approximation. This notebook illustrates the ellipticity of figure that is calculated. Users of the package will not need to directly use the routines below unless they are specifically interested in particular values of the ellipticity of figure."
   ]
  },
  {
   "cell_type": "code",
   "execution_count": 1,
   "id": "74c5aa47",
   "metadata": {},
   "outputs": [],
   "source": [
    "import numpy as np\n",
    "import matplotlib.pyplot as plt\n",
    "\n",
    "from obspy.taup import TauPyModel\n",
    "from ellipticipy.tools import model_epsilon, get_epsilon"
   ]
  },
  {
   "cell_type": "markdown",
   "id": "7dab28f5",
   "metadata": {},
   "source": [
    "The calculation requires a model for the interior density as a function of depth. Here we take PREM as our model. The function `model_epsilon` performs the integration and adds values of the ellipticity of figure ($\\epsilon$) as attributes to the `TauModel` object."
   ]
  },
  {
   "cell_type": "code",
   "execution_count": 2,
   "id": "60d8d7ff",
   "metadata": {},
   "outputs": [],
   "source": [
    "model = TauPyModel(\"prem\").model  # obtain TauModel from TauPyModel\n",
    "model_epsilon(model)"
   ]
  },
  {
   "cell_type": "markdown",
   "id": "4511d620",
   "metadata": {},
   "source": [
    "Once the `model_epsilon` routine has been called, values of the ellipticity of figure ($\\epsilon$) at any depth can be obtained from the `get_epsilon` routine. This routine uses linear interpolation across each layer in the `TauModel`. Here we plot a profile of the ellipticity of figure through the planet."
   ]
  },
  {
   "cell_type": "code",
   "execution_count": 3,
   "id": "569b193c",
   "metadata": {},
   "outputs": [
    {
     "data": {
      "image/png": "[encoded data removed]",
      "text/plain": [
       "<Figure size 432x288 with 1 Axes>"
      ]
     },
     "metadata": {
      "needs_background": "light"
     },
     "output_type": "display_data"
    }
   ],
   "source": [
    "depth = np.linspace(0.0, model.radius_of_planet, 200)\n",
    "epsilon = get_epsilon(model, depth)\n",
    "plt.plot(depth, epsilon)\n",
    "plt.xlabel(\"Depth (km)\")\n",
    "plt.ylabel(\"$\\epsilon$\");"
   ]
  },
  {
   "cell_type": "markdown",
   "id": "f62c24ab",
   "metadata": {},
   "source": [
    "## Surface values"
   ]
  },
  {
   "cell_type": "code",
   "execution_count": 4,
   "id": "0ea98872",
   "metadata": {},
   "outputs": [
    {
     "name": "stdout",
     "output_type": "stream",
     "text": [
      "surface_epsilon: 0.003334508214443187\n",
      "reciprocal: 299.8942979563135\n"
     ]
    }
   ],
   "source": [
    "surface_epsilon = get_epsilon(model, 0.0)\n",
    "print(\"surface_epsilon:\", surface_epsilon[0])\n",
    "print(\"reciprocal:\", 1.0 / surface_epsilon[0])"
   ]
  },
  {
   "cell_type": "markdown",
   "id": "7b455d85",
   "metadata": {},
   "source": [
    "Earth's actual surface topography has an observed ellipticity of figure $\\epsilon = 1/298.3$, within about 0.5% of the value calculated using the first-order hydrostatic model here."
   ]
  },
  {
   "cell_type": "markdown",
   "id": "c0a1a103",
   "metadata": {},
   "source": [
    "## Core - mantle boundary values "
   ]
  },
  {
   "cell_type": "code",
   "execution_count": 5,
   "id": "2ef47c10",
   "metadata": {},
   "outputs": [
    {
     "name": "stdout",
     "output_type": "stream",
     "text": [
      "cmb_epsilon: 0.00254835971005391\n",
      "reciprocal: 392.4092803911287\n"
     ]
    }
   ],
   "source": [
    "cmb_epsilon = get_epsilon(model, model.cmb_depth)\n",
    "print(\"cmb_epsilon:\", cmb_epsilon[0])\n",
    "print(\"reciprocal:\", 1.0 / cmb_epsilon[0])"
   ]
  },
  {
   "cell_type": "markdown",
   "id": "1cb82fe0",
   "metadata": {},
   "source": [
    "## Inner core - outer core boundary values"
   ]
  },
  {
   "cell_type": "code",
   "execution_count": 6,
   "id": "6a3689cf",
   "metadata": {},
   "outputs": [
    {
     "name": "stdout",
     "output_type": "stream",
     "text": [
      "iocb_epsilon: 0.0024230268297030836\n",
      "reciprocal: 412.70694477722293\n"
     ]
    }
   ],
   "source": [
    "iocb_epsilon = get_epsilon(model, model.iocb_depth)\n",
    "print(\"iocb_epsilon:\", iocb_epsilon[0])\n",
    "print(\"reciprocal:\", 1.0 / iocb_epsilon[0])"
   ]
  },
  {
   "cell_type": "markdown",
   "id": "779888ed",
   "metadata": {},
   "source": [
    "## Centre of planet values"
   ]
  },
  {
   "cell_type": "code",
   "execution_count": 7,
   "id": "7276e9b9",
   "metadata": {},
   "outputs": [
    {
     "name": "stdout",
     "output_type": "stream",
     "text": [
      "centre_epsilon: 0.0024135634155963833\n",
      "reciprocal: 414.3251399727168\n"
     ]
    }
   ],
   "source": [
    "centre_epsilon = get_epsilon(model, model.radius_of_planet)\n",
    "print(\"centre_epsilon:\", centre_epsilon[0])\n",
    "print(\"reciprocal:\", 1.0 / centre_epsilon[0])"
   ]
  },
  {
   "cell_type": "markdown",
   "id": "182b7a04",
   "metadata": {},
   "source": [
    "There exist more sophisticated models of Earth's ellipticity of figure, but the simple first-order hydrostatic approach taken here should yield sufficient accuracy for ellipticity corrections for seismic phases."
   ]
  },
  {
   "cell_type": "code",
   "execution_count": null,
   "id": "0441b2a0",
   "metadata": {},
   "outputs": [],
   "source": []
  }
 ],
 "metadata": {
  "kernelspec": {
   "display_name": "Python 3 (ipykernel)",
   "language": "python",
   "name": "python3"
  },
  "language_info": {
   "codemirror_mode": {
    "name": "ipython",
    "version": 3
   },
   "file_extension": ".py",
   "mimetype": "text/x-python",
   "name": "python",
   "nbconvert_exporter": "python",
   "pygments_lexer": "ipython3",
   "version": "3.10.2"
  }
 },
 "nbformat": 4,
 "nbformat_minor": 5
}

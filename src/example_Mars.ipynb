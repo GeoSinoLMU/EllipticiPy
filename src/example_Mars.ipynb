{
 "cells": [
  {
   "cell_type": "markdown",
   "id": "0726fccb",
   "metadata": {},
   "source": [
    "This example covers how to obtain ellipticity corrections for a list of phases from a single source\n",
    "to a single receiver using a non-standard velocity model.\n",
    "\n",
    "In this example we use the InSight_KKS_GP Mars model and obtain corrections for P, PcP, S and ScS."
   ]
  },
  {
   "cell_type": "code",
   "execution_count": 1,
   "id": "eab38160",
   "metadata": {},
   "outputs": [],
   "source": [
    "# Import modules\n",
    "# TauPyModel is needed to obtain TauP Arrival objects\n",
    "from obspy.taup import TauPyModel\n",
    "\n",
    "# Import the ellipticity corrections package directly\n",
    "import ellipticity\n"
   ]
  },
  {
   "cell_type": "markdown",
   "id": "78439932",
   "metadata": {},
   "source": [
    "The velocity model must already have been created using ObsPy TauP.\n",
    "\n",
    "For information on how to do this we refer the user to the ObsPy TauP documentation:\n",
    "https://docs.obspy.org/packages/obspy.taup.html.\n",
    "\n",
    "In this example, the model used is InSight\\_KKS\\_GP from Knapmeyer-Endrun et al. (2021), Khan et al. (2021) and Stahler et al.\n",
    "(2021)."
   ]
  },
  {
   "cell_type": "code",
   "execution_count": 4,
   "id": "63a7bbf7",
   "metadata": {},
   "outputs": [],
   "source": [
    "# Initialise the model\n",
    "model_file = './mars_model/mars1.npz'\n",
    "model = TauPyModel(model = model_file)"
   ]
  },
  {
   "cell_type": "markdown",
   "id": "d411e9dd",
   "metadata": {},
   "source": [
    "For models that are not Earth, the length of day must be specified for calculation of the ellipticity of figure."
   ]
  },
  {
   "cell_type": "code",
   "execution_count": 5,
   "id": "e7a16187",
   "metadata": {},
   "outputs": [],
   "source": [
    "# Set the length of day of the model in seconds\n",
    "mlod = 88642.44"
   ]
  },
  {
   "cell_type": "code",
   "execution_count": 6,
   "id": "26830eed",
   "metadata": {},
   "outputs": [],
   "source": [
    "# Define parameters for the ray path\n",
    "phases = ['P', 'PcP', 'S', 'ScS']   # TauP phase names as strings\n",
    "distance = 30.                      # Epicentral distance in degrees\n",
    "azimuth = 30.                       # Azimuth source - receiver in degrees from N\n",
    "ev_latitude = 15.                   # Event latitude in degrees\n",
    "ev_depth = 30.                      # Event depth in km"
   ]
  },
  {
   "cell_type": "markdown",
   "id": "bec8cb34",
   "metadata": {},
   "source": [
    "Arrival objects must be called from ObsPy TauP using the TauPyModel.get\\_ray\\_paths() command. This pre-calculates the ray path.\n",
    "\n",
    "For a given source and receiver, ObsPy TauP takes a list of phase names and returns Arrival objects in the order that they arrive."
   ]
  },
  {
   "cell_type": "code",
   "execution_count": 7,
   "id": "815c2b8b",
   "metadata": {},
   "outputs": [
    {
     "name": "stdout",
     "output_type": "stream",
     "text": [
      "4 arrivals\n",
      "\tP phase arrival at 233.656 seconds\n",
      "\tPcP phase arrival at 399.537 seconds\n",
      "\tS phase arrival at 414.185 seconds\n",
      "\tScS phase arrival at 736.521 seconds\n"
     ]
    }
   ],
   "source": [
    "# Get the Arrivals object\n",
    "arrivals = model.get_ray_paths(source_depth_in_km = ev_depth, distance_in_degree = distance, phase_list = phases)\n",
    "print(arrivals)"
   ]
  },
  {
   "cell_type": "code",
   "execution_count": 11,
   "id": "8ef651e9",
   "metadata": {},
   "outputs": [
    {
     "name": "stdout",
     "output_type": "stream",
     "text": [
      "Corrections:  [0.087666929279991035, 0.1623288997973964, 0.16225123177207471, 0.30061759667877536] \n",
      "\n",
      "P phase arrival at 233.656 seconds has an ellipticity correction of 0.08766692928 seconds\n",
      "PcP phase arrival at 399.537 seconds has an ellipticity correction of 0.162328899797 seconds\n",
      "S phase arrival at 414.185 seconds has an ellipticity correction of 0.162251231772 seconds\n",
      "ScS phase arrival at 736.521 seconds has an ellipticity correction of 0.300617596679 seconds\n"
     ]
    }
   ],
   "source": [
    "# Get the ellipticity corrections in seconds\n",
    "correction = ellipticity.ellipticity_correction(arrivals, azimuth, ev_latitude, lod=mlod)\n",
    "print('Corrections: ', correction, '\\n')\n",
    "for i, arr in enumerate(arrivals):\n",
    "    print(str(arr) + ' has an ellipticity correction of ' + str(correction[i]) + ' seconds')"
   ]
  },
  {
   "cell_type": "code",
   "execution_count": null,
   "id": "57674ae6",
   "metadata": {},
   "outputs": [],
   "source": []
  },
  {
   "cell_type": "code",
   "execution_count": null,
   "id": "4588a4c9",
   "metadata": {},
   "outputs": [],
   "source": []
  }
 ],
 "metadata": {
  "kernelspec": {
   "display_name": "Python 3 (ipykernel)",
   "language": "python",
   "name": "python3"
  },
  "language_info": {
   "codemirror_mode": {
    "name": "ipython",
    "version": 3
   },
   "file_extension": ".py",
   "mimetype": "text/x-python",
   "name": "python",
   "nbconvert_exporter": "python",
   "pygments_lexer": "ipython3",
   "version": "3.9.7"
  }
 },
 "nbformat": 4,
 "nbformat_minor": 5
}

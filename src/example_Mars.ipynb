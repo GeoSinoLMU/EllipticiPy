{
 "cells": [
  {
   "cell_type": "markdown",
   "id": "0726fccb",
   "metadata": {},
   "source": [
    "# Mars\n",
    "This example demonstrates how to obtain ellipticity corrections for a list of phases from a single source to a single receiver using a non-standard velocity model. We use the InSight_KKS_GP Mars model and obtain corrections for P, PcP, S and ScS."
   ]
  },
  {
   "cell_type": "code",
   "execution_count": 1,
   "id": "eab38160",
   "metadata": {},
   "outputs": [],
   "source": [
    "# TauPyModel is needed to obtain TauP Arrival objects\n",
    "from obspy.taup import TauPyModel\n",
    "\n",
    "# The routine for calculating ellipticity corrections\n",
    "from ellipticipy import ellipticity_correction"
   ]
  },
  {
   "cell_type": "markdown",
   "id": "78439932",
   "metadata": {},
   "source": [
    "The velocity model must already have been created using ObsPy TauP.\n",
    "\n",
    "For information on how to do this we refer the user to the ObsPy TauP documentation:\n",
    "https://docs.obspy.org/packages/obspy.taup.html.\n",
    "\n",
    "In this example, the model used is InSight\\_KKS\\_GP from [Knapmeyer-Endrun et al. (2021)](https://doi.org/10.1126/science.abf8966), [Khan et al. (2021)](https://doi.org/10.1126/science.abf2966) and [Stahler et al.\n",
    "(2021)](https://doi.org/10.1126/science.abi7730)."
   ]
  },
  {
   "cell_type": "code",
   "execution_count": 2,
   "id": "63a7bbf7",
   "metadata": {},
   "outputs": [],
   "source": [
    "# Initialise the model\n",
    "model_file = \"./mars_model/mars1.npz\"\n",
    "model = TauPyModel(model=model_file)"
   ]
  },
  {
   "cell_type": "markdown",
   "id": "d411e9dd",
   "metadata": {},
   "source": [
    "For models that are not Earth, the length of day must be specified for calculation of the ellipticity of figure."
   ]
  },
  {
   "cell_type": "code",
   "execution_count": 3,
   "id": "e7a16187",
   "metadata": {},
   "outputs": [],
   "source": [
    "# Set the length of day of the model in seconds\n",
    "mars_lod = 88642.44"
   ]
  },
  {
   "cell_type": "code",
   "execution_count": 4,
   "id": "26830eed",
   "metadata": {},
   "outputs": [],
   "source": [
    "# Define parameters for the ray path\n",
    "phases = [\"P\", \"PcP\", \"S\", \"ScS\"]  # TauP phase names as strings\n",
    "distance = 30.0  # Epicentral distance in degrees\n",
    "azimuth = 30.0  # Azimuth source - receiver in degrees from N\n",
    "source_latitude = 15.0  # Event latitude in degrees\n",
    "source_depth = 30.0  # Event depth in km"
   ]
  },
  {
   "cell_type": "markdown",
   "id": "bec8cb34",
   "metadata": {},
   "source": [
    "Arrival objects must be called from ObsPy TauP using the TauPyModel.get\\_ray\\_paths() command. This pre-calculates the ray path.\n",
    "\n",
    "For a given source and receiver, ObsPy TauP takes a list of phase names and returns Arrival objects in the order that they arrive."
   ]
  },
  {
   "cell_type": "code",
   "execution_count": 5,
   "id": "815c2b8b",
   "metadata": {},
   "outputs": [
    {
     "name": "stdout",
     "output_type": "stream",
     "text": [
      "4 arrivals\n",
      "\tP phase arrival at 233.656 seconds\n",
      "\tPcP phase arrival at 399.537 seconds\n",
      "\tS phase arrival at 414.185 seconds\n",
      "\tScS phase arrival at 736.521 seconds\n"
     ]
    }
   ],
   "source": [
    "# Get the Arrivals object\n",
    "arrivals = model.get_ray_paths(\n",
    "    source_depth_in_km=source_depth, distance_in_degree=distance, phase_list=phases\n",
    ")\n",
    "print(arrivals)"
   ]
  },
  {
   "cell_type": "code",
   "execution_count": 6,
   "id": "8ef651e9",
   "metadata": {},
   "outputs": [
    {
     "name": "stdout",
     "output_type": "stream",
     "text": [
      "Corrections:  [0.08766692927999128, 0.16232889979739656, 0.162251231772075, 0.3006175966787755] \n",
      "\n",
      "P phase arrival at 233.656 seconds has an ellipticity correction of 0.08766692927999128 seconds\n",
      "PcP phase arrival at 399.537 seconds has an ellipticity correction of 0.16232889979739656 seconds\n",
      "S phase arrival at 414.185 seconds has an ellipticity correction of 0.162251231772075 seconds\n",
      "ScS phase arrival at 736.521 seconds has an ellipticity correction of 0.3006175966787755 seconds\n"
     ]
    }
   ],
   "source": [
    "# Get the ellipticity corrections in seconds\n",
    "correction = ellipticity_correction(arrivals, azimuth, source_latitude, lod=mars_lod)\n",
    "print(\"Corrections: \", correction, \"\\n\")\n",
    "for i, arr in enumerate(arrivals):\n",
    "    print(\n",
    "        str(arr)\n",
    "        + \" has an ellipticity correction of \"\n",
    "        + str(correction[i])\n",
    "        + \" seconds\"\n",
    "    )"
   ]
  },
  {
   "cell_type": "code",
   "execution_count": null,
   "id": "57674ae6",
   "metadata": {},
   "outputs": [],
   "source": []
  }
 ],
 "metadata": {
  "kernelspec": {
   "display_name": "Python 3 (ipykernel)",
   "language": "python",
   "name": "python3"
  },
  "language_info": {
   "codemirror_mode": {
    "name": "ipython",
    "version": 3
   },
   "file_extension": ".py",
   "mimetype": "text/x-python",
   "name": "python",
   "nbconvert_exporter": "python",
   "pygments_lexer": "ipython3",
   "version": "3.10.2"
  }
 },
 "nbformat": 4,
 "nbformat_minor": 5
}

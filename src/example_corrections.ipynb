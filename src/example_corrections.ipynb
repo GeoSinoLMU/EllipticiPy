{
 "cells": [
  {
   "cell_type": "markdown",
   "id": "9306976b",
   "metadata": {},
   "source": [
    "# Ellipticity corrections\n",
    "This example demonstrates how to obtain ellipticity corrections for a list of phases from a single source to a single receiver. We obtain corrections for P and PcP in the velocity model PREM."
   ]
  },
  {
   "cell_type": "code",
   "execution_count": 1,
   "id": "fd81c746",
   "metadata": {},
   "outputs": [],
   "source": [
    "# TauPyModel is needed to obtain TauP Arrival objects\n",
    "from obspy.taup import TauPyModel\n",
    "\n",
    "# The routine for calculating ellipticity corrections\n",
    "from ellipticipy import ellipticity_correction"
   ]
  },
  {
   "cell_type": "code",
   "execution_count": 2,
   "id": "72a66a18",
   "metadata": {},
   "outputs": [],
   "source": [
    "# Initialise a TauPyModel instance\n",
    "model = TauPyModel(model=\"prem\")"
   ]
  },
  {
   "cell_type": "code",
   "execution_count": 3,
   "id": "547f4561",
   "metadata": {},
   "outputs": [],
   "source": [
    "# Define parameters for the ray path\n",
    "phases = [\"P\", \"PcP\"]  # TauP phase names as strings\n",
    "distance = 50.0  # Epicentral distance in degrees\n",
    "azimuth = 30.0  # Azimuth source - receiver in degrees from N\n",
    "source_latitude = 15.0  # Event latitude in degrees\n",
    "source_depth = 100.0  # Event depth in km"
   ]
  },
  {
   "cell_type": "markdown",
   "id": "eaf35af0",
   "metadata": {},
   "source": [
    "`Arrivals` objects must first be calculated by ObsPy TauP using the `TauPyModel.get_ray_paths()` method. This pre-calculates the ray paths.\n",
    "\n",
    "For a given source and receiver, ObsPy TauP takes a list of phase names and returns a list of `Arrival` objects in the order that they arrive."
   ]
  },
  {
   "cell_type": "code",
   "execution_count": 4,
   "id": "e9f65077",
   "metadata": {},
   "outputs": [
    {
     "name": "stdout",
     "output_type": "stream",
     "text": [
      "2 arrivals\n",
      "\tP phase arrival at 523.586 seconds\n",
      "\tPcP phase arrival at 601.647 seconds\n"
     ]
    }
   ],
   "source": [
    "# Get the Arrivals object\n",
    "arrivals = model.get_ray_paths(\n",
    "    source_depth_in_km=source_depth, distance_in_degree=distance, phase_list=phases\n",
    ")\n",
    "print(arrivals)"
   ]
  },
  {
   "cell_type": "code",
   "execution_count": 5,
   "id": "9ccb2cc4",
   "metadata": {},
   "outputs": [
    {
     "name": "stdout",
     "output_type": "stream",
     "text": [
      "Corrections:  [-0.09068384541606347, -0.10077522120629623] \n",
      "\n",
      "P phase arrival at 523.586 seconds has an ellipticity correction of -0.091 seconds\n",
      "PcP phase arrival at 601.647 seconds has an ellipticity correction of -0.101 seconds\n"
     ]
    }
   ],
   "source": [
    "# Get the ellipticity corrections in seconds\n",
    "correction = ellipticity_correction(arrivals, azimuth, source_latitude)\n",
    "print(\"Corrections: \", correction, \"\\n\")\n",
    "for i, arr in enumerate(arrivals):\n",
    "    print(\n",
    "        str(arr)\n",
    "        + \" has an ellipticity correction of \"\n",
    "        + f\"{correction[i]:.3f}\"\n",
    "        + \" seconds\"\n",
    "    )"
   ]
  },
  {
   "cell_type": "code",
   "execution_count": 6,
   "id": "a65470a8",
   "metadata": {},
   "outputs": [
    {
     "name": "stdout",
     "output_type": "stream",
     "text": [
      "P arrival time:  523.4957100043223 s\n",
      "PcP arrival time:  601.546219532352 s\n"
     ]
    }
   ],
   "source": [
    "# The total travel time is the TauP Arrival time plus the correction\n",
    "arrival_time_P = arrivals[0].time + correction[0]\n",
    "arrival_time_PcP = arrivals[1].time + correction[1]\n",
    "print(\"P arrival time: \", arrival_time_P, \"s\")\n",
    "print(\"PcP arrival time: \", arrival_time_PcP, \"s\")"
   ]
  },
  {
   "cell_type": "code",
   "execution_count": null,
   "id": "c468ea83",
   "metadata": {},
   "outputs": [],
   "source": []
  }
 ],
 "metadata": {
  "kernelspec": {
   "display_name": "Python 3 (ipykernel)",
   "language": "python",
   "name": "python3"
  },
  "language_info": {
   "codemirror_mode": {
    "name": "ipython",
    "version": 3
   },
   "file_extension": ".py",
   "mimetype": "text/x-python",
   "name": "python",
   "nbconvert_exporter": "python",
   "pygments_lexer": "ipython3",
   "version": "3.10.2"
  }
 },
 "nbformat": 4,
 "nbformat_minor": 5
}

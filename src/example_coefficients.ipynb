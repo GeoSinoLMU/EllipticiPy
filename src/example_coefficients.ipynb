{
 "cells": [
  {
   "cell_type": "markdown",
   "id": "d7983af8",
   "metadata": {},
   "source": [
    "# Ellipticity coefficients"
   ]
  },
  {
   "cell_type": "markdown",
   "id": "bba92bbf",
   "metadata": {},
   "source": [
    "Ellipticity corrections $\\delta t$ can be written in terms of three ellipticity coefficients $\\left(\\sigma_0, \\sigma_1, \\sigma_2 \\right)$ as\n",
    "\\begin{equation*} \\label{tau_legendre_addition}\n",
    "    \\delta t = \\sum_{m=0}^{2} \\sigma_{m} P_{2, m}(\\cos \\vartheta_{0}) \\cos m \\zeta\n",
    "\\end{equation*}\n",
    "where $P_{2, m}(x)$ are the Schmidt semi-normalised associated Legendre polynomials of degree 2 and order $m$, $\\vartheta_{0}$ is the source co-latitude, and $\\zeta$ is the azimuth from source to receiver. Typically users should call the main `ellipticity_correction` routine to directly obtain $\\delta t$. However, should it be desired, it is also possible to output the ellipticity coefficients using the `ellipticity_coefficients` routine as follows:"
   ]
  },
  {
   "cell_type": "code",
   "execution_count": 1,
   "id": "69696624",
   "metadata": {},
   "outputs": [],
   "source": [
    "from obspy.taup import TauPyModel\n",
    "from ellipticipy.tools import ellipticity_coefficients"
   ]
  },
  {
   "cell_type": "code",
   "execution_count": 2,
   "id": "3b1ef78a",
   "metadata": {},
   "outputs": [
    {
     "data": {
      "text/plain": [
       "[[-0.881318328224469, -0.754352534309273, -1.1311084663546127]]"
      ]
     },
     "execution_count": 2,
     "metadata": {},
     "output_type": "execute_result"
    }
   ],
   "source": [
    "model = TauPyModel(\"prem\")\n",
    "arrivals = model.get_ray_paths(\n",
    "    source_depth_in_km=300.0, distance_in_degree=60.0, phase_list=[\"ScS\"]\n",
    ")\n",
    "ellipticity_coefficients(arrivals)"
   ]
  },
  {
   "cell_type": "markdown",
   "id": "2ce337c1",
   "metadata": {},
   "source": [
    "Tables of ellipticity coefficients for different seismic phases can be found in the literature e.g. [Dziewonski and Gilbert (1976)](https://doi.org/10.1111/j.1365-246X.1976.tb00271.x) and [Kennett and Gudmundsson (1996)](https://doi.org/10.1111/j.1365-246X.1996.tb01533.x). For the ScS example given above, Table 7 of [Dziewonski and Gilbert (1976)](https://doi.org/10.1111/j.1365-246X.1976.tb00271.x) provides ellipticity coefficients (-0.89, -0.76, -1.14) in good agreement with those above."
   ]
  },
  {
   "cell_type": "code",
   "execution_count": null,
   "id": "801726ca",
   "metadata": {},
   "outputs": [],
   "source": []
  }
 ],
 "metadata": {
  "kernelspec": {
   "display_name": "Python 3 (ipykernel)",
   "language": "python",
   "name": "python3"
  },
  "language_info": {
   "codemirror_mode": {
    "name": "ipython",
    "version": 3
   },
   "file_extension": ".py",
   "mimetype": "text/x-python",
   "name": "python",
   "nbconvert_exporter": "python",
   "pygments_lexer": "ipython3",
   "version": "3.10.2"
  }
 },
 "nbformat": 4,
 "nbformat_minor": 5
}
